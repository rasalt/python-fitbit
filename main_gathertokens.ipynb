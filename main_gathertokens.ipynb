{
 "cells": [
  {
   "cell_type": "code",
   "execution_count": null,
   "id": "ab4ac113-8148-4398-9133-f842bd2f4f81",
   "metadata": {},
   "outputs": [],
   "source": [
    "!pip3 install -r requirements/base.txt\n",
    "!pip3 install datetime"
   ]
  },
  {
   "cell_type": "code",
   "execution_count": null,
   "id": "a5d85b83-f34a-4a7a-b2f6-91b10b670802",
   "metadata": {},
   "outputs": [],
   "source": [
    "# This is a python file you need to have in the same directory as your code so you can import it\n",
    "import gather_keys_oauth2 as Oauth2\n",
    "import fitbit\n",
    "#import pandas as pd \n",
    "import datetime\n",
    "# You will need to put in your own CLIENT_ID and CLIENT_SECRET as the ones below are fake\n",
    "CLIENT_ID=''\n",
    "CLIENT_SECRET=''"
   ]
  },
  {
   "cell_type": "code",
   "execution_count": null,
   "id": "6ef9de56-1d11-4f89-93eb-d9104b727b36",
   "metadata": {},
   "outputs": [],
   "source": [
    "server=Oauth2.OAuth2Server(CLIENT_ID, CLIENT_SECRET)\n",
    "server.browser_authorize()\n",
    "ACCESS_TOKEN=str(server.fitbit.client.session.token['access_token'])\n",
    "REFRESH_TOKEN=str(server.fitbit.client.session.token['refresh_token'])\n",
    "print(\"-----------ACCESS TOKEN-------------\")\n",
    "print(ACCESS_TOKEN)\n",
    "print(\"-----------REFRESH TOKEN-------------\")\n",
    "print(REFRESH_TOKEN)\n",
    "\n"
   ]
  },
  {
   "cell_type": "code",
   "execution_count": null,
   "id": "a2f3755a-ac67-436d-ab43-67d2264dce3b",
   "metadata": {},
   "outputs": [],
   "source": [
    "\n",
    "import datetime\n",
    "yesterday = str((datetime.datetime.now() - datetime.timedelta(days=1)).strftime(\"%Y%m%d\"))\n",
    "yesterday2 = str((datetime.datetime.now() - datetime.timedelta(days=1)).strftime(\"%Y-%m-%d\"))\n",
    "today = str(datetime.datetime.now().strftime(\"%Y%m%d\"))"
   ]
  },
  {
   "cell_type": "code",
   "execution_count": null,
   "id": "a4c738cc-0868-439f-9c2c-b0ae08ac7019",
   "metadata": {},
   "outputs": [],
   "source": [
    "auth2_client=fitbit.Fitbit(CLIENT_ID,CLIENT_SECRET,oauth2=True,access_token=ACCESS_TOKEN,refresh_token=REFRESH_TOKEN)\n",
    "fit_statsHR = auth2_client.intraday_time_series('activities/heart', base_date=yesterday2, detail_level='1sec')\n"
   ]
  },
  {
   "cell_type": "code",
   "execution_count": null,
   "id": "feea57b4-7310-4e81-a50f-54eac5fdbe81",
   "metadata": {},
   "outputs": [],
   "source": [
    "import json\n",
    "json_formatted_str = json.dumps(fit_statsHR, indent=2)\n",
    "print(json_formatted_str)"
   ]
  },
  {
   "cell_type": "code",
   "execution_count": null,
   "id": "c890ff67-49c3-44ff-8065-9edc80f70444",
   "metadata": {},
   "outputs": [],
   "source": []
  }
 ],
 "metadata": {
  "kernelspec": {
   "display_name": "Python 3",
   "language": "python",
   "name": "python3"
  },
  "language_info": {
   "codemirror_mode": {
    "name": "ipython",
    "version": 3
   },
   "file_extension": ".py",
   "mimetype": "text/x-python",
   "name": "python",
   "nbconvert_exporter": "python",
   "pygments_lexer": "ipython3",
   "version": "3.7.7"
  }
 },
 "nbformat": 4,
 "nbformat_minor": 5
}
