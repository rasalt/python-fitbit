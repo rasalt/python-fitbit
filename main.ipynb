{
 "cells": [
  {
   "cell_type": "markdown",
   "id": "03a32ee1-ac32-41f8-a6f9-a68713dee09b",
   "metadata": {},
   "source": [
    "### Obtain tokens and ID \n",
    "\n",
    "ID and Secret from your fitbit portal (application registration page)\n",
    "\n",
    "Tokens are obtained by running the notebook main_gatheringtokens.ipynb"
   ]
  },
  {
   "cell_type": "code",
   "execution_count": 21,
   "id": "a5d85b83-f34a-4a7a-b2f6-91b10b670802",
   "metadata": {},
   "outputs": [],
   "source": [
    "# This is a python file you need to have in the same directory as your code so you can import it\n",
    "import gather_keys_oauth2 as Oauth2\n",
    "import fitbit\n",
    "#import pandas as pd \n",
    "import datetime\n",
    "# You will need to put in your own CLIENT_ID and CLIENT_SECRET as the ones below are fake\n"
   ]
  },
  {
   "cell_type": "markdown",
   "id": "f10c70e9-87fb-40d0-ab85-94e38e8a397c",
   "metadata": {},
   "source": [
    "### Setup the client \n",
    "### Reference https://python-fitbit.readthedocs.io/en/latest/#quickstart\n"
   ]
  },
  {
   "cell_type": "code",
   "execution_count": 22,
   "id": "dda940c6-ee67-4385-8ebe-4e5d1e1105b0",
   "metadata": {},
   "outputs": [],
   "source": [
    "authd_client = fitbit.Fitbit(CLIENT_ID, CLIENT_SECRET ,\n",
    "                             access_token=ACCESS_TOKEN, refresh_token=REFRESH_TOKEN)"
   ]
  },
  {
   "cell_type": "markdown",
   "id": "ea83b58e-59ff-45e5-94aa-3fa6af044d65",
   "metadata": {},
   "source": [
    "### Obtain device list "
   ]
  },
  {
   "cell_type": "code",
   "execution_count": 23,
   "id": "afcc82e8-cf8f-4d62-9d89-0b76057be0df",
   "metadata": {},
   "outputs": [
    {
     "data": {
      "text/plain": [
       "[{'battery': 'Empty',\n",
       "  'batteryLevel': 0,\n",
       "  'deviceVersion': 'MobileTrack',\n",
       "  'features': [],\n",
       "  'id': '1829675410',\n",
       "  'lastSyncTime': '2021-06-10T11:10:07.000',\n",
       "  'type': 'TRACKER'}]"
      ]
     },
     "execution_count": 23,
     "metadata": {},
     "output_type": "execute_result"
    }
   ],
   "source": [
    "authd_client.get_devices()"
   ]
  },
  {
   "cell_type": "markdown",
   "id": "d1d1e701-3c52-4729-9ecf-776d94f0f8a7",
   "metadata": {},
   "source": [
    "### Obtain activitied"
   ]
  },
  {
   "cell_type": "code",
   "execution_count": 20,
   "id": "bff96f43-522c-453e-966c-f632d173916c",
   "metadata": {},
   "outputs": [
    {
     "data": {
      "text/plain": [
       "{'activities': [],\n",
       " 'goals': {'activeMinutes': 30,\n",
       "  'caloriesOut': 2063,\n",
       "  'distance': 5,\n",
       "  'steps': 10000},\n",
       " 'summary': {'activeScore': -1,\n",
       "  'activityCalories': 0,\n",
       "  'caloriesBMR': 708,\n",
       "  'caloriesOut': 708,\n",
       "  'distances': [{'activity': 'total', 'distance': 0},\n",
       "   {'activity': 'tracker', 'distance': 0},\n",
       "   {'activity': 'loggedActivities', 'distance': 0},\n",
       "   {'activity': 'veryActive', 'distance': 0},\n",
       "   {'activity': 'moderatelyActive', 'distance': 0},\n",
       "   {'activity': 'lightlyActive', 'distance': 0},\n",
       "   {'activity': 'sedentaryActive', 'distance': 0}],\n",
       "  'fairlyActiveMinutes': 0,\n",
       "  'lightlyActiveMinutes': 0,\n",
       "  'marginalCalories': 0,\n",
       "  'sedentaryMinutes': 845,\n",
       "  'steps': 0,\n",
       "  'veryActiveMinutes': 0}}"
      ]
     },
     "execution_count": 20,
     "metadata": {},
     "output_type": "execute_result"
    }
   ],
   "source": [
    "authd_client.activities()"
   ]
  },
  {
   "cell_type": "code",
   "execution_count": null,
   "id": "88f99265-c00d-44ef-a4de-bccb9abe1457",
   "metadata": {},
   "outputs": [],
   "source": []
  }
 ],
 "metadata": {
  "kernelspec": {
   "display_name": "Python 3",
   "language": "python",
   "name": "python3"
  },
  "language_info": {
   "codemirror_mode": {
    "name": "ipython",
    "version": 3
   },
   "file_extension": ".py",
   "mimetype": "text/x-python",
   "name": "python",
   "nbconvert_exporter": "python",
   "pygments_lexer": "ipython3",
   "version": "3.7.7"
  }
 },
 "nbformat": 4,
 "nbformat_minor": 5
}
